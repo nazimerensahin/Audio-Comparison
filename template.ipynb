{
 "cells": [
  {
   "cell_type": "code",
   "execution_count": 44,
   "id": "dbf563f2-b6f8-4b6a-9c65-f8b38212a286",
   "metadata": {},
   "outputs": [],
   "source": [
    "# Librosa sisteminin aktarılması\n",
    "\n",
    "import matplotlib.pyplot as plt # Grafik ve görselleştirme işlemleri için Matplotlib kütüphanesini yükler.\n",
    "import numpy as np # Bilimsel hesaplama ve dizi işlemleri için NumPy kütüphanesini yükler.\n",
    "import librosa # Ses işleme ve analiz için Librosa kütüphanesini yükler.\n",
    "import librosa.display # Librosa’nın ses grafikleri çizme fonksiyonlarını yükler.\n",
    "import pyloudnorm as pyln  # LUFS analizini yapar.\n",
    "import IPython.display as ipd # Ses dosyalarını Jupyter'da çalmak için gerekli IPython fonksiyonlarını yükler.\n",
    "from IPython.display import Audio, display  # Ses dosyalarını Jupyter hücresinde oynatmaya olanak tanır.\n",
    "\n",
    "# Ses dosyalarının yollarını bir listeye ekleme\n",
    "audio_files = [\n",
    "    \"/Users/nazimerensahin/Desktop/fldr/teletro.wav\", \n",
    "    \"/Users/nazimerensahin/Desktop/fldr/22.wav\",     \n",
    "    \"/Users/nazimerensahin/Desktop/fldr/33.wav\",\n",
    "    \"/Users/nazimerensahin/Desktop/fldr/44.wav\",\n",
    "    \"/Users/nazimerensahin/Desktop/fldr/55.wav\",\n",
    "    \"/Users/nazimerensahin/Desktop/fldr/66.wav\",\n",
    "    \"/Users/nazimerensahin/Desktop/fldr/77.wav\",\n",
    "    \"/Users/nazimerensahin/Desktop/fldr/88.wav\",\n",
    "    \"/Users/nazimerensahin/Desktop/fldr/99.wav\",\n",
    "    \"/Users/nazimerensahin/Desktop/fldr/1010.wav\",\n",
    "    \"/Users/nazimerensahin/Desktop/fldr/1111.wav\",\n",
    "]\n",
    "\n",
    "# Her dosya için açıklayıcı isimler ekleme\n",
    "audio_labels = [\n",
    "    \"Teletronix Input\",\n",
    "    \"Processed Sound 1\",\n",
    "    \"Processed Sound 2\",\n",
    "    \"Processed Sound 3\",\n",
    "    \"Processed Sound 4\",\n",
    "    \"Processed Sound 5\",\n",
    "    \"Processed Sound 6\",\n",
    "    \"Processed Sound 7\",\n",
    "    \"Processed Sound 8\",\n",
    "    \"Processed Sound 9\",\n",
    "    \"Processed Sound 10\",\n",
    "]\n"
   ]
  },
  {
   "cell_type": "code",
   "execution_count": null,
   "id": "b36c376d-5205-4ab7-9fd6-2406298d5158",
   "metadata": {},
   "outputs": [],
   "source": []
  }
 ],
 "metadata": {
  "kernelspec": {
   "display_name": "Python 3 (ipykernel)",
   "language": "python",
   "name": "python3"
  },
  "language_info": {
   "codemirror_mode": {
    "name": "ipython",
    "version": 3
   },
   "file_extension": ".py",
   "mimetype": "text/x-python",
   "name": "python",
   "nbconvert_exporter": "python",
   "pygments_lexer": "ipython3",
   "version": "3.12.4"
  }
 },
 "nbformat": 4,
 "nbformat_minor": 5
}
